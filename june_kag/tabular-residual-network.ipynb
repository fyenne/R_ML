{
 "cells": [
  {
   "cell_type": "markdown",
   "id": "e6ae9bf3",
   "metadata": {
    "papermill": {
     "duration": 0.006814,
     "end_time": "2021-06-05T14:29:57.126895",
     "exception": false,
     "start_time": "2021-06-05T14:29:57.120081",
     "status": "completed"
    },
    "tags": []
   },
   "source": [
    "Thank you for reading, in this new version I installed the \"tfaddons\" R package in order to introduce weight normalization to the dense layers of the residual network, which improved the performance noticeably relative to the previous version.\n",
    "\n",
    "Recently I have been studying the book \"Deep Learning with R\" by François Chollet, and I thought this competition would be a nice opportunity to practice. I will put the corresponding sections from the book for each step in case anyone is interested.\n",
    "\n",
    "The model in this notebook is inspired on the following notebook by Demetry Pascal from the \"Mechanisms of Action\" competition (it looks like his new user name is demetrypascal2) @ https://www.kaggle.com/demetrypascal/fork-of-2heads-looper-super-puper-plate I thought it would be interesting to try using a similar model in this competition after I read the notebook by Laurent Pourchot: https://www.kaggle.com/pourchot/decision-forest-fed-by-neural-network In that notebook he feeds a neural network into a decision forest, so I thought a similar behaviour might be achieved through residual connections as in Demetry's model, although the model in this notebook is much simpler and there is probably still much room for improvement."
   ]
  },
  {
   "cell_type": "code",
   "execution_count": 1,
   "id": "74423391",
   "metadata": {
    "_execution_state": "idle",
    "_uuid": "051d70d956493feee0c6d64651c6a088724dca2a",
    "execution": {
     "iopub.execute_input": "2021-06-05T14:29:57.144265Z",
     "iopub.status.busy": "2021-06-05T14:29:57.141817Z",
     "iopub.status.idle": "2021-06-05T14:29:58.414147Z",
     "shell.execute_reply": "2021-06-05T14:29:58.412476Z"
    },
    "papermill": {
     "duration": 1.281482,
     "end_time": "2021-06-05T14:29:58.414287",
     "exception": false,
     "start_time": "2021-06-05T14:29:57.132805",
     "status": "completed"
    },
    "tags": []
   },
   "outputs": [
    {
     "name": "stderr",
     "output_type": "stream",
     "text": [
      "── \u001b[1mAttaching packages\u001b[22m ─────────────────────────────────────── tidyverse 1.3.0 ──\n",
      "\n",
      "\u001b[32m✔\u001b[39m \u001b[34mggplot2\u001b[39m 3.3.3     \u001b[32m✔\u001b[39m \u001b[34mpurrr  \u001b[39m 0.3.4\n",
      "\u001b[32m✔\u001b[39m \u001b[34mtibble \u001b[39m 3.1.1     \u001b[32m✔\u001b[39m \u001b[34mdplyr  \u001b[39m 1.0.5\n",
      "\u001b[32m✔\u001b[39m \u001b[34mtidyr  \u001b[39m 1.1.3     \u001b[32m✔\u001b[39m \u001b[34mstringr\u001b[39m 1.4.0\n",
      "\u001b[32m✔\u001b[39m \u001b[34mreadr  \u001b[39m 1.4.0     \u001b[32m✔\u001b[39m \u001b[34mforcats\u001b[39m 0.5.0\n",
      "\n",
      "── \u001b[1mConflicts\u001b[22m ────────────────────────────────────────── tidyverse_conflicts() ──\n",
      "\u001b[31m✖\u001b[39m \u001b[34mdplyr\u001b[39m::\u001b[32mfilter()\u001b[39m masks \u001b[34mstats\u001b[39m::filter()\n",
      "\u001b[31m✖\u001b[39m \u001b[34mdplyr\u001b[39m::\u001b[32mlag()\u001b[39m    masks \u001b[34mstats\u001b[39m::lag()\n",
      "\n"
     ]
    },
    {
     "data": {
      "text/html": [
       "'tabular-playground-series-jun-2021'"
      ],
      "text/latex": [
       "'tabular-playground-series-jun-2021'"
      ],
      "text/markdown": [
       "'tabular-playground-series-jun-2021'"
      ],
      "text/plain": [
       "[1] \"tabular-playground-series-jun-2021\""
      ]
     },
     "metadata": {},
     "output_type": "display_data"
    }
   ],
   "source": [
    "# This R environment comes with many helpful analytics packages installed\n",
    "# It is defined by the kaggle/rstats Docker image: https://github.com/kaggle/docker-rstats\n",
    "# For example, here's a helpful package to load\n",
    "\n",
    "library(tidyverse) # metapackage of all tidyverse packages\n",
    "\n",
    "# Input data files are available in the read-only \"../input/\" directory\n",
    "# For example, running this (by clicking run or pressing Shift+Enter) will list all files under the input directory\n",
    "\n",
    "list.files(path = \"../input\")\n",
    "\n",
    "# You can write up to 20GB to the current directory (/kaggle/working/) that gets preserved as output when you create a version using \"Save & Run All\" \n",
    "# You can also write temporary files to /kaggle/temp/, but they won't be saved outside of the current session"
   ]
  },
  {
   "cell_type": "code",
   "execution_count": 2,
   "id": "b96f2c2c",
   "metadata": {
    "execution": {
     "iopub.execute_input": "2021-06-05T14:29:58.461898Z",
     "iopub.status.busy": "2021-06-05T14:29:58.432461Z",
     "iopub.status.idle": "2021-06-05T14:30:16.664000Z",
     "shell.execute_reply": "2021-06-05T14:30:16.660460Z"
    },
    "papermill": {
     "duration": 18.242236,
     "end_time": "2021-06-05T14:30:16.664179",
     "exception": false,
     "start_time": "2021-06-05T14:29:58.421943",
     "status": "completed"
    },
    "tags": []
   },
   "outputs": [
    {
     "name": "stderr",
     "output_type": "stream",
     "text": [
      "Installing package into ‘/usr/local/lib/R/site-library’\n",
      "(as ‘lib’ is unspecified)\n",
      "\n",
      "\n",
      "Attaching package: ‘tfaddons’\n",
      "\n",
      "\n",
      "The following object is masked from ‘package:readr’:\n",
      "\n",
      "    parse_time\n",
      "\n",
      "\n"
     ]
    },
    {
     "name": "stdout",
     "output_type": "stream",
     "text": [
      "Using virtual environment '/usr/local/share/.virtualenvs/r-reticulate' ...\n"
     ]
    }
   ],
   "source": [
    "# Tensorflow addons:\n",
    "install.packages(\"tfaddons\")\n",
    "library(tfaddons)\n",
    "tfaddons::install_tfaddons()\n",
    "\n",
    "# Tensorflow / Keras:\n",
    "library(tensorflow)\n",
    "library(keras)\n",
    "\n",
    "# Competition metric similar to the one in Demetry's notebook:\n",
    "altloss <- function(y_true, y_pred){\n",
    "  y_pred <- k_clip(y_pred, 0.0+10E-15, 1.0-10E-15)\n",
    "  k_mean(metric_categorical_crossentropy(y_true,y_pred))\n",
    "}"
   ]
  },
  {
   "cell_type": "code",
   "execution_count": 3,
   "id": "5d967c73",
   "metadata": {
    "execution": {
     "iopub.execute_input": "2021-06-05T14:30:16.704635Z",
     "iopub.status.busy": "2021-06-05T14:30:16.701512Z",
     "iopub.status.idle": "2021-06-05T14:30:30.359215Z",
     "shell.execute_reply": "2021-06-05T14:30:30.357754Z"
    },
    "papermill": {
     "duration": 13.6778,
     "end_time": "2021-06-05T14:30:30.359395",
     "exception": false,
     "start_time": "2021-06-05T14:30:16.681595",
     "status": "completed"
    },
    "tags": []
   },
   "outputs": [],
   "source": [
    "# Input:\n",
    "train <- read.csv('../input/tabular-playground-series-jun-2021/train.csv',row.names=1)\n",
    "test <- read.csv('../input/tabular-playground-series-jun-2021/test.csv',row.names=1)\n",
    "sample_submission <- read.csv('../input/tabular-playground-series-jun-2021/sample_submission.csv',row.names=1)\n",
    "\n",
    "# Get training features matrix:\n",
    "xall <- as.matrix(train[,c(1:ncol(train)-1)])\n",
    "\n",
    "# Get training targets matrix as one-hot-encoding (see section 3.5.2 of the book by Chollet):\n",
    "yint <- as.integer(gsub(\"Class_\",\"\",train[,ncol(train)])) - 1\n",
    "yohe <- to_categorical(yint)\n",
    "\n",
    "# Prepare out-of-fold and testing-set predictions:\n",
    "yoof <- 0*yohe\n",
    "ytest <- matrix(0,nrow(test),ncol(sample_submission),dimnames=list(rownames(test),colnames(sample_submission)))"
   ]
  },
  {
   "cell_type": "markdown",
   "id": "299889f0",
   "metadata": {
    "papermill": {
     "duration": 0.008363,
     "end_time": "2021-06-05T14:30:30.376969",
     "exception": false,
     "start_time": "2021-06-05T14:30:30.368606",
     "status": "completed"
    },
    "tags": []
   },
   "source": [
    "I got the idea to use an embedding layer on this dataset from Laurent's notebook. One thing I am still confused about is why the same embedding layer works for all the features. I tried using a different embedding layer for each feature and then concatenating them as shown below, but the performance is worse. I guess this might mean that the integer values share the same meaning across many features (e.g. if a value of 0 means 'lilies' in all columns)."
   ]
  },
  {
   "cell_type": "code",
   "execution_count": 4,
   "id": "c8a3598c",
   "metadata": {
    "execution": {
     "iopub.execute_input": "2021-06-05T14:30:30.399356Z",
     "iopub.status.busy": "2021-06-05T14:30:30.397554Z",
     "iopub.status.idle": "2021-06-05T14:30:30.409487Z",
     "shell.execute_reply": "2021-06-05T14:30:30.407908Z"
    },
    "papermill": {
     "duration": 0.023774,
     "end_time": "2021-06-05T14:30:30.409589",
     "exception": false,
     "start_time": "2021-06-05T14:30:30.385815",
     "status": "completed"
    },
    "tags": []
   },
   "outputs": [],
   "source": [
    "# Column-wise embedding layers:\n",
    "# embedded <- list()\n",
    "# for(i in 1:ncol(xall)){\n",
    "#   layer <- input[,i] %>%\n",
    "#   layer_embedding(max(xall[,i])+1,1)\n",
    "#   embedded <- append(embedded,layer)\n",
    "# }\n",
    "# embedded <- layer_concatenate(embedded)"
   ]
  },
  {
   "cell_type": "code",
   "execution_count": 5,
   "id": "b878f85b",
   "metadata": {
    "execution": {
     "iopub.execute_input": "2021-06-05T14:30:30.431374Z",
     "iopub.status.busy": "2021-06-05T14:30:30.429519Z",
     "iopub.status.idle": "2021-06-05T14:30:30.442242Z",
     "shell.execute_reply": "2021-06-05T14:30:30.440617Z"
    },
    "papermill": {
     "duration": 0.024247,
     "end_time": "2021-06-05T14:30:30.442350",
     "exception": false,
     "start_time": "2021-06-05T14:30:30.418103",
     "status": "completed"
    },
    "tags": []
   },
   "outputs": [],
   "source": [
    "# Model function using the R functional API (see section 7.1.1 of the book by Chollet):\n",
    "\n",
    "get_model <- function(incols=ncol(xall), outcols=ncol(yohe)){\n",
    "  input <- layer_input(shape=c(incols))\n",
    "  \n",
    "  # Embedding layer as in Laurent's notebook:\n",
    "    \n",
    "  embedded <- input %>%\n",
    "    layer_embedding(max(xall)+1,2) %>%\n",
    "    layer_flatten()\n",
    "  \n",
    "  # Network with residual connections inspired by Demetry's notebook:\n",
    "    \n",
    "  hidden <- embedded %>%\n",
    "    layer_dropout(0.2) %>%\n",
    "    layer_weight_normalization(layer_dense(units=32,activation='selu',kernel_initializer=\"lecun_normal\"))\n",
    "  \n",
    "  output <- layer_concatenate(list(embedded,hidden)) %>%\n",
    "    layer_dropout(0.2) %>%\n",
    "    layer_weight_normalization(layer_dense(units=32,activation='relu'))\n",
    "  \n",
    "  output <- layer_concatenate(list(embedded,hidden,output)) %>%\n",
    "    layer_dropout(0.3) %>%\n",
    "    layer_weight_normalization(layer_dense(units=32,activation='elu')) %>%\n",
    "    layer_dense(units=outcols,activation='softmax')\n",
    "  \n",
    "  model <- keras_model(input,output)\n",
    "  model %>% compile(\n",
    "    optimizer=optimizer_adam(),\n",
    "    loss=loss_categorical_crossentropy,\n",
    "    metrics=custom_metric('altloss',altloss)\n",
    "  )\n",
    "    \n",
    "  return(model)\n",
    "}"
   ]
  },
  {
   "cell_type": "code",
   "execution_count": 6,
   "id": "8087abb5",
   "metadata": {
    "execution": {
     "iopub.execute_input": "2021-06-05T14:30:30.464302Z",
     "iopub.status.busy": "2021-06-05T14:30:30.462585Z",
     "iopub.status.idle": "2021-06-05T14:53:28.102639Z",
     "shell.execute_reply": "2021-06-05T14:53:28.098217Z"
    },
    "papermill": {
     "duration": 1377.652,
     "end_time": "2021-06-05T14:53:28.102848",
     "exception": false,
     "start_time": "2021-06-05T14:30:30.450848",
     "status": "completed"
    },
    "tags": []
   },
   "outputs": [
    {
     "name": "stdout",
     "output_type": "stream",
     "text": [
      "[1] \"Seed = 1 ; Fold = 1 ; OOF log-loss = 1.7471413138545\"\n",
      "[1] \"Seed = 1 ; Fold = 2 ; OOF log-loss = 1.74715084023004\"\n",
      "[1] \"Seed = 1 ; Fold = 3 ; OOF log-loss = 1.74113025788679\"\n",
      "[1] \"Seed = 1 ; Fold = 4 ; OOF log-loss = 1.73564082499736\"\n",
      "[1] \"Seed = 1 ; Fold = 5 ; OOF log-loss = 1.7379857807757\"\n",
      "[1] \"Seed = 1 ; Fold = 6 ; OOF log-loss = 1.74579396582287\"\n",
      "[1] \"Seed = 1 ; Fold = 7 ; OOF log-loss = 1.74211644906561\"\n",
      "[1] \"Seed = 1 ; Fold = 8 ; OOF log-loss = 1.7306896518844\"\n",
      "[1] \"Seed = 1 ; Fold = 9 ; OOF log-loss = 1.74928774768949\"\n",
      "[1] \"Seed = 1 ; Fold = 10 ; OOF log-loss = 1.73910967239203\"\n",
      "[1] \"Full training set; OOF log-loss = 1.74160472761929\"\n"
     ]
    }
   ],
   "source": [
    "# Stratified K-fold cross validation:\n",
    "\n",
    "seeds <- 1\n",
    "folds <- 10\n",
    "\n",
    "for(seed in 1:seeds){\n",
    "    \n",
    "    # Section 4.2.1 of the book by Chollet shows how to do k-fold cross validation:\n",
    "    # indices <- sample(1:nrow(xall))\n",
    "    # folds <- cut(1:length(indices),breaks=10,labels=FALSE)\n",
    "    \n",
    "    # However, in order to add stratification on the target classes I made some modifications:\n",
    "    set.seed(seed)\n",
    "    indices <- data.frame(Index=1:nrow(xall),Class=yint)\n",
    "    indices <- do.call(rbind,lapply(split(indices,indices$Class),function(x){\n",
    "      x <- x[sample(1:nrow(x)),]\n",
    "      x$Fold <- cut(1:nrow(x),breaks=folds,labels=FALSE)\n",
    "      return(x)\n",
    "    }))\n",
    "\n",
    "    for(fold in 1:folds){\n",
    "        \n",
    "      # Get validation indices:\n",
    "      validID <- indices[indices$Fold==fold,'Index']\n",
    "\n",
    "      # Get feature matrices:\n",
    "      xtrain <- xall[-validID,]\n",
    "      xvalid <- xall[validID,]\n",
    "      xtest <- as.matrix(test)\n",
    "\n",
    "      # Training:\n",
    "      model <- get_model(incols=ncol(xtrain), outcols=ncol(sample_submission))\n",
    "      model %>% fit(\n",
    "        xtrain, yohe[-validID,], validation_data=list(xvalid, yohe[validID,]),\n",
    "        epochs=100, batch_size=256,\n",
    "        callbacks=list(\n",
    "          callback_reduce_lr_on_plateau(patience=2, factor=0.7),\n",
    "          callback_early_stopping(patience=8, min_delta=1e-05),\n",
    "          callback_model_checkpoint(paste0('mlp_',seed,'_',fold,'.h5'), \n",
    "                                    save_best_only=TRUE, save_weights_only=TRUE)\n",
    "      ))\n",
    "      load_model_weights_hdf5(model, paste0('mlp_',seed,'_',fold,'.h5'))\n",
    "        \n",
    "      # Inference:\n",
    "      yoof[validID,] <- model %>% predict(xvalid)\n",
    "      ytest <- ytest + model %>% predict(xtest) / folds / seeds\n",
    "      print(paste('Seed =',seed,'; Fold =', fold,'; OOF log-loss =',as.numeric(altloss(yohe[validID,],yoof[validID,]))))\n",
    "    }\n",
    "    \n",
    "    # Measure out-of-fold performance:\n",
    "    print(paste('Full training set; OOF log-loss =',as.numeric(altloss(yohe,yoof))))\n",
    "}\n",
    "\n",
    "# Submit result:\n",
    "submission <- data.frame(\"ID\"=rownames(sample_submission),ytest)\n",
    "write.csv(submission,file='submission.csv',row.names=FALSE,quote=FALSE)"
   ]
  },
  {
   "cell_type": "markdown",
   "id": "7a037e24",
   "metadata": {
    "papermill": {
     "duration": 0.014633,
     "end_time": "2021-06-05T14:53:28.132759",
     "exception": false,
     "start_time": "2021-06-05T14:53:28.118126",
     "status": "completed"
    },
    "tags": []
   },
   "source": [
    "Thank you for reading! Let me know if you have any questions or suggestions."
   ]
  },
  {
   "cell_type": "code",
   "execution_count": null,
   "id": "8501f4a4",
   "metadata": {
    "papermill": {
     "duration": 0.014479,
     "end_time": "2021-06-05T14:53:28.161810",
     "exception": false,
     "start_time": "2021-06-05T14:53:28.147331",
     "status": "completed"
    },
    "tags": []
   },
   "outputs": [],
   "source": []
  }
 ],
 "metadata": {
  "kernelspec": {
   "display_name": "R",
   "language": "R",
   "name": "ir"
  },
  "language_info": {
   "codemirror_mode": "r",
   "file_extension": ".r",
   "mimetype": "text/x-r-source",
   "name": "R",
   "pygments_lexer": "r",
   "version": "3.6.3"
  },
  "papermill": {
   "default_parameters": {},
   "duration": 1414.073382,
   "end_time": "2021-06-05T14:53:28.731570",
   "environment_variables": {},
   "exception": null,
   "input_path": "__notebook__.ipynb",
   "output_path": "__notebook__.ipynb",
   "parameters": {},
   "start_time": "2021-06-05T14:29:54.658188",
   "version": "2.3.3"
  }
 },
 "nbformat": 4,
 "nbformat_minor": 5
}
